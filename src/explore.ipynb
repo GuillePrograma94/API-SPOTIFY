{
    "cells": [
        {
            "cell_type": "markdown",
            "metadata": {},
            "source": [
                "# Explore here"
            ]
        },
        {
            "cell_type": "code",
            "execution_count": 2,
            "metadata": {},
            "outputs": [
                {
                    "data": {
                        "text/plain": [
                            "True"
                        ]
                    },
                    "execution_count": 2,
                    "metadata": {},
                    "output_type": "execute_result"
                }
            ],
            "source": [
                "import os\n",
                "import pandas as pd\n",
                "import seaborn as sns\n",
                "from dotenv import load_dotenv\n",
                "import spotipy\n",
                "from spotipy.oauth2 import SpotifyOAuth\n",
                "import matplotlib.pyplot as plt\n",
                "\n",
                "# load the .env file variables\n",
                "load_dotenv()\n",
                "\n"
            ]
        },
        {
            "cell_type": "code",
            "execution_count": 3,
            "metadata": {},
            "outputs": [],
            "source": [
                "# We obtain the client_id and client_secret values.\n",
                "client_id = os.environ.get(\"CLIENT_ID\")\n",
                "client_secret = os.environ.get(\"CLIENT_SECRET\")\n",
                "redirect_uri = os.environ.get(\"REDIRECT_URI\")\n",
                "\n",
                "# WE ADD THE DATA NECESSARY TO CONNECT TO THE API, AND THE SCOPE TO READ THE INFORMATION.\n",
                "sp = spotipy.Spotify(auth_manager=SpotifyOAuth(client_id=client_id,\n",
                "                                               client_secret=client_secret,\n",
                "                                               redirect_uri=redirect_uri,\n",
                "                                               scope='user-library-read'))"
            ]
        },
        {
            "cell_type": "code",
            "execution_count": 4,
            "metadata": {},
            "outputs": [
                {
                    "name": "stdout",
                    "output_type": "stream",
                    "text": [
                        "1: As It Was (Duration: 2.79 minutes. Popularity: 91)\n",
                        "2: Watermelon Sugar (Duration: 2.90 minutes. Popularity: 87)\n",
                        "3: Adore You (Duration: 3.45 minutes. Popularity: 83)\n",
                        "4: Sign of the Times (Duration: 5.68 minutes. Popularity: 82)\n",
                        "5: Falling (Duration: 4.00 minutes. Popularity: 79)\n",
                        "6: Late Night Talking (Duration: 2.97 minutes. Popularity: 79)\n",
                        "7: Fine Line (Duration: 6.30 minutes. Popularity: 76)\n",
                        "8: Matilda (Duration: 4.10 minutes. Popularity: 76)\n",
                        "9: Keep Driving (Duration: 2.34 minutes. Popularity: 75)\n",
                        "10: Golden (Duration: 3.48 minutes. Popularity: 74)\n"
                    ]
                }
            ],
            "source": [
                "# WE SPECIFY THE ARTIST WE WANT TO ANALYSE.\n",
                "artist_id = \"6KImCVD70vtIoJWnq6nGn3\"\n",
                "\n",
                "top_tracks = sp.artist_top_tracks(artist_id)['tracks']\n",
                "\n",
                "# Print the top ten tracks with their name, duration in minutes and popularity.\n",
                "for idx, track in enumerate(top_tracks, start=1):\n",
                "    duration_minutes = track['duration_ms'] / 60000\n",
                "    print(f\"{idx}: {track['name']} (Duration: {duration_minutes:.2f} minutes. Popularity: {track['popularity']})\")"
            ]
        },
        {
            "cell_type": "code",
            "execution_count": 5,
            "metadata": {},
            "outputs": [
                {
                    "name": "stdout",
                    "output_type": "stream",
                    "text": [
                        "               Name  Duration (minutes)  Popularity\n",
                        "0         As It Was            2.788383          91\n",
                        "1  Watermelon Sugar            2.900000          87\n",
                        "2         Adore You            3.452217          83\n"
                    ]
                }
            ],
            "source": [
                "# We create the DataFrame for the top tracks \n",
                "tracks_df = pd.DataFrame([{\"Name\": track['name'], \"Duration (minutes)\": track['duration_ms'] / 60000, \"Popularity\": track['popularity']} for track in top_tracks])\n",
                "\n",
                "# Display the DataFrame\n",
                "print(tracks_df.head(3))\n"
            ]
        },
        {
            "cell_type": "code",
            "execution_count": 6,
            "metadata": {},
            "outputs": [
                {
                    "data": {
                        "image/png": "[encoded data removed]",
                        "text/plain": [
                            "<Figure size 640x480 with 1 Axes>"
                        ]
                    },
                    "metadata": {},
                    "output_type": "display_data"
                }
            ],
            "source": [
                "# We analyse if there is a statistical relationship between popularity and duration of the song.\n",
                "scatter_plot = sns.scatterplot(data=tracks_df, x=\"Popularity\", y=\"Duration (minutes)\")\n",
                "plt.show()"
            ]
        },
        {
            "cell_type": "markdown",
            "metadata": {},
            "source": [
                "\n",
                "The dots on the graph are not following a linear trend, therefore, there is no relationship between a song's length and its popularity."
            ]
        }
    ],
    "metadata": {
        "kernelspec": {
            "display_name": "Python 3.8.13 64-bit ('3.8.13')",
            "language": "python",
            "name": "python3"
        },
        "language_info": {
            "codemirror_mode": {
                "name": "ipython",
                "version": 3
            },
            "file_extension": ".py",
            "mimetype": "text/x-python",
            "name": "python",
            "nbconvert_exporter": "python",
            "pygments_lexer": "ipython3",
            "version": "3.11.2"
        },
        "orig_nbformat": 4,
        "vscode": {
            "interpreter": {
                "hash": "110cc1dee26208153f2972f08a2ad52b6a56238dc66d48e87fb757ef2996db56"
            }
        }
    },
    "nbformat": 4,
    "nbformat_minor": 2
}
